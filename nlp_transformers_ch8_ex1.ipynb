{
  "nbformat": 4,
  "nbformat_minor": 0,
  "metadata": {
    "colab": {
      "provenance": [],
      "authorship_tag": "ABX9TyO7i9GsTKtNJC5+kODZV1X9",
      "include_colab_link": true
    },
    "kernelspec": {
      "name": "python3",
      "display_name": "Python 3"
    },
    "language_info": {
      "name": "python"
    }
  },
  "cells": [
    {
      "cell_type": "markdown",
      "metadata": {
        "id": "view-in-github",
        "colab_type": "text"
      },
      "source": [
        "<a href=\"https://colab.research.google.com/github/bforoura/Transformers/blob/main/nlp_transformers_ch8_ex1.ipynb\" target=\"_parent\"><img src=\"https://colab.research.google.com/assets/colab-badge.svg\" alt=\"Open In Colab\"/></a>"
      ]
    },
    {
      "cell_type": "code",
      "execution_count": 1,
      "metadata": {
        "colab": {
          "base_uri": "https://localhost:8080/"
        },
        "id": "xeaSvL3O7Zaj",
        "outputId": "e9e95d36-6dd0-4c2f-e963-74db96ad900a"
      },
      "outputs": [
        {
          "output_type": "stream",
          "name": "stdout",
          "text": [
            "Looking in indexes: https://pypi.org/simple, https://us-python.pkg.dev/colab-wheels/public/simple/\n",
            "Collecting gensim==3.8.3\n",
            "  Downloading gensim-3.8.3-cp37-cp37m-manylinux1_x86_64.whl (24.2 MB)\n",
            "\u001b[K     |████████████████████████████████| 24.2 MB 1.9 MB/s \n",
            "\u001b[?25hRequirement already satisfied: numpy>=1.11.3 in /usr/local/lib/python3.7/dist-packages (from gensim==3.8.3) (1.21.6)\n",
            "Requirement already satisfied: smart-open>=1.8.1 in /usr/local/lib/python3.7/dist-packages (from gensim==3.8.3) (5.2.1)\n",
            "Requirement already satisfied: scipy>=0.18.1 in /usr/local/lib/python3.7/dist-packages (from gensim==3.8.3) (1.7.3)\n",
            "Requirement already satisfied: six>=1.5.0 in /usr/local/lib/python3.7/dist-packages (from gensim==3.8.3) (1.15.0)\n",
            "Installing collected packages: gensim\n",
            "  Attempting uninstall: gensim\n",
            "    Found existing installation: gensim 3.6.0\n",
            "    Uninstalling gensim-3.6.0:\n",
            "      Successfully uninstalled gensim-3.6.0\n",
            "Successfully installed gensim-3.8.3\n"
          ]
        },
        {
          "output_type": "stream",
          "name": "stderr",
          "text": [
            "[nltk_data] Downloading package punkt to /root/nltk_data...\n",
            "[nltk_data]   Unzipping tokenizers/punkt.zip.\n"
          ]
        },
        {
          "output_type": "execute_result",
          "data": {
            "text/plain": [
              "True"
            ]
          },
          "metadata": {},
          "execution_count": 1
        }
      ],
      "source": [
        "#@title A Positional Encoding Example\n",
        "\n",
        "# Gensim is a free open-source Python library for representing documents as semantic vectors\n",
        "!pip install gensim==3.8.3\n",
        "\n",
        "\n",
        "# An open-source machine learning library, a scientific computing framework, and a \n",
        "# script language based on the Lua programming language.\n",
        "import torch\n",
        "\n",
        "# Library is a suite that contains libraries and programs for statistical language processing\n",
        "import nltk\n",
        "\n",
        "# Punktis a Sentence Tokenizer that divides a text into a list of sentences by using \n",
        "# an unsupervised algorithm to build a model for abbreviation words, collocations, and \n",
        "# words that start sentences.\n",
        "nltk.download('punkt')\n",
        "\n"
      ]
    },
    {
      "cell_type": "code",
      "source": [
        "#@title Necessary imports\n",
        "\n",
        "import math\n",
        "import numpy as np\n",
        "from nltk.tokenize import sent_tokenize, word_tokenize \n",
        "import gensim \n",
        "from gensim.models import Word2Vec \n",
        "import numpy as np\n",
        "from sklearn.metrics.pairwise import cosine_similarity\n",
        "import matplotlib.pyplot as plt\n",
        "import warnings \n",
        "warnings.filterwarnings(action = 'ignore') \n",
        "\n"
      ],
      "metadata": {
        "id": "CIY9H4m89rgD"
      },
      "execution_count": 3,
      "outputs": []
    },
    {
      "cell_type": "code",
      "source": [
        "#@title Upload the data file and parse it\n",
        "\n",
        "dprint=1 # prints outputs if set to 1, default=0\n",
        "\n",
        "#‘text.txt’ file \n",
        "!curl -L https://raw.githubusercontent.com/PacktPublishing/Transformers-for-Natural-Language-Processing/main/Chapter01/text.txt --output \"test.txt\"\n",
        "\n",
        "sample = open(\"test.txt\", \"r\") \n",
        "s = sample.read() \n",
        "\n",
        "# processing escape characters \n",
        "f = s.replace(\"\\n\", \" \") \n",
        "\n",
        "data = [] \n",
        "\n",
        "# sentence parsing \n",
        "for i in sent_tokenize(f): \n",
        "\ttemp = [] \n",
        "\t# tokenize the sentence into words \n",
        "\tfor j in word_tokenize(i): \n",
        "\t\ttemp.append(j.lower()) \n",
        "\tdata.append(temp) \n",
        "\n",
        "\n",
        "\n"
      ],
      "metadata": {
        "colab": {
          "base_uri": "https://localhost:8080/"
        },
        "id": "ne4qRprz-rZL",
        "outputId": "a4ff57c1-ca38-4be7-d763-faafa4e56164"
      },
      "execution_count": 8,
      "outputs": [
        {
          "output_type": "stream",
          "name": "stdout",
          "text": [
            "  % Total    % Received % Xferd  Average Speed   Time    Time     Time  Current\n",
            "                                 Dload  Upload   Total   Spent    Left  Speed\n",
            "\r  0     0    0     0    0     0      0      0 --:--:-- --:--:-- --:--:--     0\r100 24151  100 24151    0     0   436k      0 --:--:-- --:--:-- --:--:--  444k\n"
          ]
        }
      ]
    },
    {
      "cell_type": "code",
      "source": [
        "#@title Create the Skip Gram models\n",
        "\n",
        "#model2 = gensim.models.Word2Vec(data, min_count = 1, size = 512,window = 5, sg = 1) \n",
        "#model = Word2Vec(sentences=common_texts, vector_size=100, window=5, min_count=1, workers=4)\n",
        "model2 = gensim.models.Word2Vec(data, min_count = 1, size = 512,window = 5, sg = 1)\n",
        "\n",
        "# 1-The 2-black 3-cat 4-sat 5-on 6-the 7-couch 8-and 9-the 10-brown 11-dog 12-slept 13-on 14-the 15-rug.\n",
        "word1='black'\n",
        "word2='brown'\n",
        "\n",
        "pos1=2\n",
        "pos2=10\n",
        "\n",
        "a=model2[word1]\n",
        "b=model2[word2]\n",
        "\n",
        "if(dprint==1):\n",
        "        print(a)\n"
      ],
      "metadata": {
        "colab": {
          "base_uri": "https://localhost:8080/"
        },
        "id": "Vm_dAaGYBYQM",
        "outputId": "1c65312f-43ae-46dd-f6ee-9fae7db35587"
      },
      "execution_count": 9,
      "outputs": [
        {
          "output_type": "stream",
          "name": "stderr",
          "text": [
            "WARNING:gensim.models.base_any2vec:under 10 jobs per worker: consider setting a smaller `batch_words' for smoother alpha decay\n"
          ]
        },
        {
          "output_type": "stream",
          "name": "stdout",
          "text": [
            "[ 0.03598683 -0.00565577 -0.10151643  0.03018838  0.01860851 -0.01856142\n",
            "  0.00210228 -0.03402211  0.06821775  0.05761792  0.07001607 -0.01343211\n",
            "  0.03389274 -0.07457796 -0.04713601 -0.01342907 -0.06210098 -0.01079821\n",
            "  0.02137231 -0.07676471 -0.04403317  0.01638177 -0.07369281  0.07799415\n",
            " -0.01275421  0.04845377  0.02827115 -0.01043866  0.1370989   0.0510955\n",
            " -0.03608342 -0.05271146  0.02822991 -0.03588377  0.01670334 -0.03939424\n",
            " -0.00254495  0.078578   -0.04785986  0.01141417 -0.04350094 -0.07098354\n",
            " -0.10861259 -0.1241564  -0.00638527  0.01881578 -0.00819512 -0.04847056\n",
            "  0.07769629 -0.07984544 -0.13270716  0.00524202 -0.06403963 -0.04899118\n",
            "  0.0689587   0.00789011 -0.02186745  0.06444667  0.13739644  0.05977032\n",
            " -0.01969501  0.01093789  0.02829748 -0.05757109 -0.02741261 -0.05213709\n",
            " -0.06093855 -0.00292054  0.03714421  0.00382517  0.01853587 -0.06361522\n",
            " -0.01774343 -0.00147828  0.005125   -0.04781511 -0.00887499 -0.00228059\n",
            "  0.05194479  0.12663615 -0.05377701  0.15178393  0.0526859   0.07744158\n",
            " -0.01274941 -0.04943609  0.03969895  0.00865779 -0.07503634  0.03687676\n",
            "  0.01045683 -0.00158825  0.00416649 -0.00175538  0.06519809 -0.01758695\n",
            " -0.05910738 -0.08883724  0.05965434 -0.01810349  0.02573712 -0.0091199\n",
            "  0.13683903  0.05661027  0.11248068  0.04849553 -0.02717139  0.03256531\n",
            " -0.02334566  0.01986863 -0.00773138 -0.00512796  0.02896779 -0.05703657\n",
            " -0.01686528 -0.09837722  0.03374864  0.01984913 -0.04539734 -0.00821581\n",
            "  0.04307373  0.09525071  0.03052388 -0.0483639  -0.03852953 -0.00515781\n",
            "  0.0405767   0.06748061 -0.03366389  0.0539602   0.05437578  0.04701643\n",
            " -0.0037874   0.02619791  0.01849167  0.03050945  0.02019943  0.03595083\n",
            " -0.02079496  0.03165958  0.06143374  0.08953271 -0.06985483 -0.03662057\n",
            " -0.09539034 -0.041571    0.05291992  0.08513618 -0.05053165  0.00154847\n",
            "  0.00881743  0.01546409 -0.09051608  0.00510893  0.07418904  0.09873229\n",
            "  0.04522891 -0.00900608 -0.00210747  0.04439854 -0.0656154   0.05471753\n",
            " -0.02532223 -0.10906439  0.09631653 -0.03337795 -0.02388    -0.05273176\n",
            " -0.02720603  0.0223172   0.02623648  0.04699655 -0.08516268  0.03950615\n",
            "  0.01154883 -0.05459058  0.02897285 -0.02280696 -0.07821115 -0.0203896\n",
            " -0.03551197  0.04324858  0.01183616  0.05807252  0.11330748  0.00162699\n",
            " -0.01871072  0.01467113  0.09521056 -0.0039455   0.05558813 -0.00035845\n",
            " -0.04127361 -0.07528208  0.13949722 -0.03741741 -0.03602031 -0.00879696\n",
            "  0.00533856 -0.00230685 -0.0301053  -0.02715356  0.08311126  0.07594398\n",
            "  0.07851224  0.00074886  0.06193238  0.13226433 -0.00128589  0.0190433\n",
            " -0.03281279  0.07227878  0.02574221  0.01237986 -0.01667232 -0.11016097\n",
            "  0.10859047 -0.10874018 -0.04192262 -0.01088419 -0.0883017   0.02098714\n",
            " -0.06786421 -0.05694582  0.02481479 -0.03062885  0.02674505 -0.02026647\n",
            " -0.04225124  0.00295393 -0.03224687 -0.01258453 -0.01723786  0.02700851\n",
            " -0.02554384  0.03078118 -0.045975    0.0027481   0.0901724  -0.03749522\n",
            " -0.00866184  0.06455342  0.10472891 -0.04954999  0.0161552  -0.05368583\n",
            " -0.11472302 -0.04391876  0.0650319   0.05888497  0.01994552 -0.02229283\n",
            " -0.03636133 -0.00089657  0.0118583  -0.01315925  0.06304473  0.01753749\n",
            "  0.02219112 -0.05873843  0.00636537 -0.08939015  0.10706116 -0.0042086\n",
            " -0.00105233  0.03340245  0.02288682  0.04429255 -0.08091053  0.06601931\n",
            " -0.02297269 -0.06221481 -0.00746535  0.01269998 -0.05171358  0.05549815\n",
            "  0.03895123 -0.05164922 -0.01415622 -0.02079327  0.10234579  0.04506752\n",
            " -0.02444126  0.01997848  0.04401942 -0.10153841 -0.01457475  0.01537455\n",
            "  0.00683686  0.04422779  0.01779073 -0.03954789  0.08441487  0.05968469\n",
            " -0.12407377  0.06822885 -0.02985108  0.0619917   0.00941378 -0.00518229\n",
            "  0.00568367 -0.02827443  0.07013975  0.0148561   0.03066655 -0.0530731\n",
            " -0.0042938  -0.07641536  0.01238238  0.01022303 -0.01410879  0.01932724\n",
            "  0.07785902  0.02547167  0.0748416  -0.05066594  0.00027182 -0.01904172\n",
            " -0.01223625 -0.01413187 -0.08696657  0.02104712 -0.10418074 -0.06688543\n",
            " -0.01178521 -0.07219011  0.05004668  0.02819061 -0.08612398  0.01978311\n",
            " -0.01711837 -0.02756088  0.05069466 -0.00854933 -0.00731283 -0.0375636\n",
            " -0.04366324  0.01829686  0.00525866 -0.01104524  0.05050032  0.02224578\n",
            "  0.15796368  0.03618514 -0.06228827  0.05306706  0.00178545 -0.04147941\n",
            " -0.06570792 -0.06250194  0.02889859 -0.04539072 -0.03929748 -0.02222284\n",
            " -0.06786402  0.02275837  0.03462736  0.00770177  0.02272684  0.02579681\n",
            " -0.07575126  0.04935838 -0.06919955 -0.03894575  0.03981101 -0.0175352\n",
            " -0.04558584  0.03146454 -0.0143708   0.02661849 -0.04470666  0.0026098\n",
            " -0.01494106  0.00920161  0.01344183 -0.05123194  0.01693486  0.02030557\n",
            "  0.04331192  0.00859453 -0.03208263  0.09685638 -0.12570782  0.040704\n",
            " -0.06319489 -0.05679654 -0.04884393 -0.0160573   0.02362333 -0.08243655\n",
            "  0.0710782   0.01125764  0.01382839 -0.05523728  0.07409528 -0.01773441\n",
            " -0.01716011  0.00613542 -0.04655652  0.15353853  0.0708373   0.01471883\n",
            "  0.0040252  -0.02369221 -0.05095567 -0.01712776  0.03863892  0.02901871\n",
            "  0.04947088 -0.10001659  0.01963172 -0.02738322 -0.02336648 -0.04511028\n",
            "  0.00193783  0.0294237   0.08192663  0.03673419 -0.03035023  0.00786681\n",
            " -0.01648636 -0.02044072  0.01475951 -0.06983527 -0.09076638  0.01807558\n",
            " -0.04604757 -0.03851174 -0.00506778 -0.055797    0.02560014  0.00396783\n",
            " -0.01980469  0.07366268 -0.00227218 -0.04348017 -0.05326029 -0.01318943\n",
            "  0.12153106 -0.01303148 -0.03907793  0.0167059   0.1247038   0.03831614\n",
            " -0.07886612 -0.06139573 -0.03392212  0.02439866 -0.00279481  0.04569823\n",
            " -0.02776453  0.03763628 -0.0010981  -0.05883414  0.04498267  0.05925011\n",
            "  0.0827719  -0.03177164  0.06161897  0.04331474  0.06248602  0.01821183\n",
            "  0.04364257  0.01953754 -0.00163553 -0.0251561   0.01730612  0.03826164\n",
            " -0.06207391  0.05557462  0.01912223 -0.03049875 -0.05018038 -0.04401753\n",
            "  0.05294697 -0.00861853  0.05097675 -0.02370863  0.07041081  0.09066083\n",
            "  0.07269096  0.05803928  0.04347968  0.04639527 -0.04782035  0.05127479\n",
            "  0.02754907  0.05412102  0.00509266  0.04225462 -0.02601701 -0.0196113\n",
            "  0.04333536 -0.05237923  0.07748021 -0.08547184  0.05585543 -0.01644433\n",
            " -0.04340532 -0.00375104  0.03298505 -0.06288424  0.06165176 -0.00509612\n",
            "  0.06910672 -0.04730021  0.06850237 -0.01802279  0.01906155 -0.00546842\n",
            " -0.09190916  0.06698912]\n"
          ]
        }
      ]
    }
  ]
}