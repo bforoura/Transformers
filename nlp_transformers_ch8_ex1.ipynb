{
  "nbformat": 4,
  "nbformat_minor": 0,
  "metadata": {
    "colab": {
      "provenance": [],
      "authorship_tag": "ABX9TyMcki39cToaJg6gPpGlrmxi",
      "include_colab_link": true
    },
    "kernelspec": {
      "name": "python3",
      "display_name": "Python 3"
    },
    "language_info": {
      "name": "python"
    }
  },
  "cells": [
    {
      "cell_type": "markdown",
      "metadata": {
        "id": "view-in-github",
        "colab_type": "text"
      },
      "source": [
        "<a href=\"https://colab.research.google.com/github/bforoura/Transformers/blob/main/nlp_transformers_ch8_ex1.ipynb\" target=\"_parent\"><img src=\"https://colab.research.google.com/assets/colab-badge.svg\" alt=\"Open In Colab\"/></a>"
      ]
    },
    {
      "cell_type": "code",
      "execution_count": null,
      "metadata": {
        "id": "xeaSvL3O7Zaj"
      },
      "outputs": [],
      "source": [
        "#@title A Positional Encoding Example\n",
        "\n",
        "# A Python library for representing documents as semantic vectors\n",
        "!pip install gensim==3.8.3\n",
        "\n",
        "# A machine learning library and a scientific computing framework\n",
        "import torch\n",
        "\n",
        "# A suite of libraries and programs for statistical language processing\n",
        "import nltk\n",
        "\n",
        "# A Sentence Tokenizer that divides a text into a list of sentences by using \n",
        "# an unsupervised algorithm\n",
        "nltk.download('punkt')\n",
        "\n"
      ]
    },
    {
      "cell_type": "code",
      "source": [
        "#@title Necessary imports\n",
        "\n",
        "import math\n",
        "import numpy as np\n",
        "from nltk.tokenize import sent_tokenize, word_tokenize \n",
        "import gensim \n",
        "from gensim.models import Word2Vec \n",
        "import numpy as np\n",
        "from sklearn.metrics.pairwise import cosine_similarity\n",
        "import matplotlib.pyplot as plt\n",
        "import warnings \n",
        "warnings.filterwarnings(action = 'ignore') \n",
        "\n"
      ],
      "metadata": {
        "id": "CIY9H4m89rgD"
      },
      "execution_count": 2,
      "outputs": []
    },
    {
      "cell_type": "code",
      "source": [
        "#@title Upload the data file and parse it\n",
        "\n",
        "dprint=0 # prints outputs if set to 1, default=0\n",
        "\n",
        "#‘text.txt’ will reside locally in your Google colab file system \n",
        "!curl -L https://raw.githubusercontent.com/PacktPublishing/Transformers-for-Natural-Language-Processing/main/Chapter01/text.txt --output \"test.txt\"\n",
        "\n",
        "sample = open(\"test.txt\", \"r\") \n",
        "s = sample.read() \n",
        "\n",
        "# processing escape characters \n",
        "f = s.replace(\"\\n\", \" \") \n",
        "\n",
        "data = [] \n",
        "\n",
        "# sentence parsing \n",
        "for i in sent_tokenize(f): \n",
        "\ttemp = [] \n",
        "\t# tokenize the sentence into words \n",
        "\tfor j in word_tokenize(i): \n",
        "\t\ttemp.append(j.lower()) \n",
        "\tdata.append(temp) \n",
        " \n",
        "\n"
      ],
      "metadata": {
        "colab": {
          "base_uri": "https://localhost:8080/"
        },
        "id": "ne4qRprz-rZL",
        "outputId": "5c6daf01-12b5-4ddd-bf4e-a24c350938c3"
      },
      "execution_count": 3,
      "outputs": [
        {
          "output_type": "stream",
          "name": "stdout",
          "text": [
            "  % Total    % Received % Xferd  Average Speed   Time    Time     Time  Current\n",
            "                                 Dload  Upload   Total   Spent    Left  Speed\n",
            "100 24151  100 24151    0     0   131k      0 --:--:-- --:--:-- --:--:--  131k\n"
          ]
        }
      ]
    },
    {
      "cell_type": "code",
      "source": [
        "#@title Create the Skip Gram model\n",
        "\n",
        "model = gensim.models.Word2Vec(data, min_count = 1, size = 512, window = 5, sg = 1)\n",
        "\n",
        "# 1-The 2-black 3-cat 4-sat 5-on 6-the 7-couch 8-and 9-the 10-brown 11-dog 12-slept 13-on 14-the 15-rug.\n",
        "word1='black'\n",
        "pos1=2\n",
        "\n",
        "word2='brown'\n",
        "pos2=10\n",
        "\n"
      ],
      "metadata": {
        "colab": {
          "base_uri": "https://localhost:8080/"
        },
        "id": "Vm_dAaGYBYQM",
        "outputId": "231bf064-b2a9-415a-f0e2-3579bd0b0ff8"
      },
      "execution_count": 8,
      "outputs": [
        {
          "output_type": "stream",
          "name": "stderr",
          "text": [
            "WARNING:gensim.models.base_any2vec:under 10 jobs per worker: consider setting a smaller `batch_words' for smoother alpha decay\n"
          ]
        }
      ]
    },
    {
      "cell_type": "code",
      "source": [
        "#@title Cosine similarity function\n",
        "\n",
        "# Cosine similarity will only be calculated if cosine==True, which means that \n",
        "# both  word1 and word2 are known:\n",
        "\n",
        "def similarity(word1,word2):\n",
        "        cosine=False         #default value\n",
        "\n",
        "        try:\n",
        "                a=model[word1]\n",
        "                cosine=True\n",
        "\n",
        "        except KeyError:     \n",
        "                print(word1, \":[unk] key not found in dictionary\") \n",
        "\n",
        "        try:\n",
        "                b=model[word2] #a=True implied\n",
        "\n",
        "        except KeyError:       \n",
        "                cosine=False   #both a and b must be true\n",
        "                print(word2, \":[unk] key not found in dictionary\")\n",
        "\n",
        "        if (cosine==True):\n",
        "                b=model[word2]\n",
        "                # compute cosine similarity\n",
        "                dot = np.dot(a, b)\n",
        "                norma = np.linalg.norm(a)\n",
        "                normb = np.linalg.norm(b)\n",
        "                cos = dot / (norma * normb)\n",
        "                \n",
        "                aa = a.reshape(1,512)\n",
        "                ba = b.reshape(1,512)\n",
        "     \n",
        "                cos_lib = cosine_similarity(aa, ba)\n",
        "\n",
        "         \n",
        "        if(cosine==False):cos_lib=0;\n",
        "        return cos_lib\n"
      ],
      "metadata": {
        "id": "RRM2rDegxVyC"
      },
      "execution_count": 12,
      "outputs": []
    },
    {
      "cell_type": "code",
      "source": [
        "print(similarity(word1, word2))"
      ],
      "metadata": {
        "colab": {
          "base_uri": "https://localhost:8080/"
        },
        "id": "yvXHA_7ZyblY",
        "outputId": "fcbe2e74-7ae8-4f58-a59e-0790f2538306"
      },
      "execution_count": 13,
      "outputs": [
        {
          "output_type": "stream",
          "name": "stdout",
          "text": [
            "[[0.9998843]]\n"
          ]
        }
      ]
    }
  ]
}