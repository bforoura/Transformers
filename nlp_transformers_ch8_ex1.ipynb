{
  "nbformat": 4,
  "nbformat_minor": 0,
  "metadata": {
    "colab": {
      "provenance": [],
      "authorship_tag": "ABX9TyMjWIXTKheu0Jx3CBXHxG09",
      "include_colab_link": true
    },
    "kernelspec": {
      "name": "python3",
      "display_name": "Python 3"
    },
    "language_info": {
      "name": "python"
    },
    "accelerator": "GPU",
    "gpuClass": "standard"
  },
  "cells": [
    {
      "cell_type": "markdown",
      "metadata": {
        "id": "view-in-github",
        "colab_type": "text"
      },
      "source": [
        "<a href=\"https://colab.research.google.com/github/bforoura/Transformers/blob/main/nlp_transformers_ch8_ex1.ipynb\" target=\"_parent\"><img src=\"https://colab.research.google.com/assets/colab-badge.svg\" alt=\"Open In Colab\"/></a>"
      ]
    },
    {
      "cell_type": "code",
      "execution_count": null,
      "metadata": {
        "id": "xeaSvL3O7Zaj"
      },
      "outputs": [],
      "source": [
        "#@title A Positional Encoding Example\n",
        "\n",
        "# A Python library for representing documents as semantic vectors\n",
        "!pip install gensim==3.8.3\n",
        "\n",
        "# A machine learning library and a scientific computing framework\n",
        "import torch\n",
        "\n",
        "# A suite of libraries and programs for statistical language processing\n",
        "import nltk\n",
        "\n",
        "# A Sentence Tokenizer that divides a text into a list of sentences by using \n",
        "# an unsupervised algorithm\n",
        "nltk.download('punkt')\n",
        "\n"
      ]
    },
    {
      "cell_type": "code",
      "source": [
        "#@title Necessary imports\n",
        "\n",
        "import math\n",
        "import numpy as np\n",
        "from nltk.tokenize import sent_tokenize, word_tokenize \n",
        "import gensim \n",
        "from gensim.models import Word2Vec \n",
        "import numpy as np\n",
        "from sklearn.metrics.pairwise import cosine_similarity\n",
        "import matplotlib.pyplot as plt\n",
        "import warnings \n",
        "warnings.filterwarnings(action = 'ignore') \n",
        "\n"
      ],
      "metadata": {
        "id": "CIY9H4m89rgD"
      },
      "execution_count": 2,
      "outputs": []
    },
    {
      "cell_type": "code",
      "source": [
        "#@title Upload the data file and parse it\n",
        "\n",
        "dprint=0 # prints outputs if set to 1, default=0\n",
        "\n",
        "#‘text.txt’ will reside locally in your Google colab file system \n",
        "!curl -L https://raw.githubusercontent.com/PacktPublishing/Transformers-for-Natural-Language-Processing/main/Chapter08/text.txt --output \"text.txt\"\n",
        "\n",
        "sample = open(\"text.txt\", \"r\") \n",
        "s = sample.read() \n",
        "\n",
        "# processing escape characters \n",
        "f = s.replace(\"\\n\", \" \") \n",
        "\n",
        "data = [] \n",
        "\n",
        "# sentence parsing \n",
        "for i in sent_tokenize(f): \n",
        "\ttemp = [] \n",
        "\t# tokenize the sentence into words \n",
        "\tfor j in word_tokenize(i): \n",
        "\t\ttemp.append(j.lower()) \n",
        "\tdata.append(temp) \n",
        " \n",
        "\n"
      ],
      "metadata": {
        "colab": {
          "base_uri": "https://localhost:8080/"
        },
        "id": "ne4qRprz-rZL",
        "outputId": "12a109b1-33c9-43ba-adde-399cdf470a82"
      },
      "execution_count": 3,
      "outputs": [
        {
          "output_type": "stream",
          "name": "stdout",
          "text": [
            "  % Total    % Received % Xferd  Average Speed   Time    Time     Time  Current\n",
            "                                 Dload  Upload   Total   Spent    Left  Speed\n",
            "100 10.9M  100 10.9M    0     0  13.0M      0 --:--:-- --:--:-- --:--:-- 13.0M\n"
          ]
        }
      ]
    },
    {
      "cell_type": "code",
      "source": [
        "#@title Create the Skip Gram model\n",
        "\n",
        "model = gensim.models.Word2Vec(data, min_count = 1, size = 512, window = 5, sg = 1)\n",
        "\n",
        "\n"
      ],
      "metadata": {
        "id": "Vm_dAaGYBYQM"
      },
      "execution_count": 4,
      "outputs": []
    },
    {
      "cell_type": "code",
      "source": [
        "#@title Cosine similarity function\n",
        "\n",
        "# Cosine similarity will only be calculated if cosine==True, which means that \n",
        "# both  word1 and word2 are known:\n",
        "\n",
        "def similarity(word1,word2):\n",
        "        cosine=False         #default value\n",
        "\n",
        "        try:\n",
        "                a=model[word1]\n",
        "                cosine=True\n",
        "\n",
        "        except KeyError:     \n",
        "                print(word1, \":[unk] key not found in dictionary\") \n",
        "\n",
        "        try:\n",
        "                b=model[word2] #a=True implied\n",
        "\n",
        "        except KeyError:       \n",
        "                cosine=False   #both a and b must be true\n",
        "                print(word2, \":[unk] key not found in dictionary\")\n",
        "\n",
        "        if (cosine==True):\n",
        "                b=model[word2]\n",
        "                # compute cosine similarity\n",
        "                dot = np.dot(a, b)\n",
        "                norma = np.linalg.norm(a)\n",
        "                normb = np.linalg.norm(b)\n",
        "                cos = dot / (norma * normb)\n",
        "                \n",
        "                aa = a.reshape(1,512)\n",
        "                ba = b.reshape(1,512)\n",
        "     \n",
        "                cos_lib = cosine_similarity(aa, ba)\n",
        "\n",
        "         \n",
        "        if(cosine==False):cos_lib=0;\n",
        "        return cos_lib\n"
      ],
      "metadata": {
        "id": "RRM2rDegxVyC"
      },
      "execution_count": 5,
      "outputs": []
    },
    {
      "cell_type": "code",
      "source": [
        "print(similarity('freedom', 'freedom'))\n"
      ],
      "metadata": {
        "colab": {
          "base_uri": "https://localhost:8080/"
        },
        "id": "yvXHA_7ZyblY",
        "outputId": "99ca70e6-283a-4202-b182-f47ec54b7e35"
      },
      "execution_count": 10,
      "outputs": [
        {
          "output_type": "stream",
          "name": "stdout",
          "text": [
            "[[1.]]\n"
          ]
        }
      ]
    },
    {
      "cell_type": "code",
      "source": [
        "#@title Case 0: Words in the dataset and the dictionary\n",
        "\n",
        "word1=\"cat\";word2=\"rug\"\n",
        "\n",
        "print(\"Similarity\", similarity(word1,word2), word1, word2)\n",
        "\n"
      ],
      "metadata": {
        "colab": {
          "base_uri": "https://localhost:8080/"
        },
        "id": "uZ61sVj9zsZY",
        "outputId": "8e19da76-72bf-4c00-e16d-d61d8c2d435f"
      },
      "execution_count": 23,
      "outputs": [
        {
          "output_type": "stream",
          "name": "stdout",
          "text": [
            "Similarity [[0.9998417]] cat rug\n"
          ]
        }
      ]
    }
  ]
}