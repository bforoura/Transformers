{
  "nbformat": 4,
  "nbformat_minor": 0,
  "metadata": {
    "colab": {
      "provenance": [],
      "authorship_tag": "ABX9TyPvgBDSuTF1Vldv2Re9OGad",
      "include_colab_link": true
    },
    "kernelspec": {
      "name": "python3",
      "display_name": "Python 3"
    },
    "language_info": {
      "name": "python"
    },
    "accelerator": "GPU",
    "gpuClass": "standard"
  },
  "cells": [
    {
      "cell_type": "markdown",
      "metadata": {
        "id": "view-in-github",
        "colab_type": "text"
      },
      "source": [
        "<a href=\"https://colab.research.google.com/github/bforoura/Transformers/blob/main/nlp_transformers_ch8_ex1.ipynb\" target=\"_parent\"><img src=\"https://colab.research.google.com/assets/colab-badge.svg\" alt=\"Open In Colab\"/></a>"
      ]
    },
    {
      "cell_type": "code",
      "execution_count": null,
      "metadata": {
        "id": "xeaSvL3O7Zaj"
      },
      "outputs": [],
      "source": [
        "#@title A Positional Encoding Example\n",
        "\n",
        "# A Python library for representing documents as semantic vectors\n",
        "!pip install gensim==3.8.3\n",
        "\n",
        "# A machine learning library and a scientific computing framework\n",
        "import torch\n",
        "\n",
        "# A suite of libraries and programs for statistical language processing\n",
        "import nltk\n",
        "\n",
        "# A Sentence Tokenizer that divides a text into a list of sentences by using \n",
        "# an unsupervised algorithm\n",
        "nltk.download('punkt')\n",
        "\n"
      ]
    },
    {
      "cell_type": "code",
      "source": [
        "#@title Necessary imports\n",
        "\n",
        "import math\n",
        "import numpy as np\n",
        "from nltk.tokenize import sent_tokenize, word_tokenize \n",
        "import gensim \n",
        "from gensim.models import Word2Vec \n",
        "import numpy as np\n",
        "from sklearn.metrics.pairwise import cosine_similarity\n",
        "import matplotlib.pyplot as plt\n",
        "import warnings \n",
        "warnings.filterwarnings(action = 'ignore') \n",
        "\n"
      ],
      "metadata": {
        "id": "CIY9H4m89rgD"
      },
      "execution_count": 2,
      "outputs": []
    },
    {
      "cell_type": "code",
      "source": [
        "#@title Upload the data file and parse it\n",
        "\n",
        "dprint=0 # prints outputs if set to 1, default=0\n",
        "\n",
        "#‘text.txt’ will reside locally in your Google colab file system \n",
        "!curl -L https://raw.githubusercontent.com/PacktPublishing/Transformers-for-Natural-Language-Processing/main/Chapter08/text.txt --output \"text.txt\"\n",
        "\n",
        "sample = open(\"text.txt\", \"r\") \n",
        "s = sample.read() \n",
        "\n",
        "# processing escape characters \n",
        "f = s.replace(\"\\n\", \" \") \n",
        "\n",
        "data = [] \n",
        "\n",
        "# sentence parsing \n",
        "for i in sent_tokenize(f): \n",
        "\ttemp = [] \n",
        "\t# tokenize the sentence into words \n",
        "\tfor j in word_tokenize(i): \n",
        "\t\ttemp.append(j.lower()) \n",
        "\tdata.append(temp) \n",
        " \n",
        "\n"
      ],
      "metadata": {
        "colab": {
          "base_uri": "https://localhost:8080/"
        },
        "id": "ne4qRprz-rZL",
        "outputId": "72306414-e48b-4078-ae84-fe03e8e4f45e"
      },
      "execution_count": 3,
      "outputs": [
        {
          "output_type": "stream",
          "name": "stdout",
          "text": [
            "  % Total    % Received % Xferd  Average Speed   Time    Time     Time  Current\n",
            "                                 Dload  Upload   Total   Spent    Left  Speed\n",
            "100 10.9M  100 10.9M    0     0  11.0M      0 --:--:-- --:--:-- --:--:-- 11.0M\n"
          ]
        }
      ]
    },
    {
      "cell_type": "code",
      "source": [
        "#@title Create the Skip Gram model\n",
        "\n",
        "model = gensim.models.Word2Vec(data, min_count = 1, size = 512, window = 5, sg = 1)\n",
        "\n",
        "print(model)\n"
      ],
      "metadata": {
        "id": "Vm_dAaGYBYQM",
        "colab": {
          "base_uri": "https://localhost:8080/"
        },
        "outputId": "418a825b-0b49-4e5a-93cc-dd9d39993f16"
      },
      "execution_count": 5,
      "outputs": [
        {
          "output_type": "stream",
          "name": "stdout",
          "text": [
            "Word2Vec(vocab=11806, size=512, alpha=0.025)\n"
          ]
        }
      ]
    },
    {
      "cell_type": "code",
      "source": [
        "#@title Cosine similarity function\n",
        "\n",
        "# Cosine similarity will only be calculated if cosine==True, which means that \n",
        "# both word1 and word2 are known\n",
        "\n",
        "def similarity(word1,word2):\n",
        "        cosine=False         #default value\n",
        "\n",
        "        try:\n",
        "                a=model[word1]\n",
        "                cosine=True\n",
        "\n",
        "        except KeyError:     \n",
        "                print(word1, \":[unk] key not found in dictionary\") \n",
        "\n",
        "        try:\n",
        "                b=model[word2] #a=True implied\n",
        "\n",
        "        except KeyError:       \n",
        "                cosine=False   #both a and b must be true\n",
        "                print(word2, \":[unk] key not found in dictionary\")\n",
        "\n",
        "        if (cosine==True):\n",
        "                b=model[word2]\n",
        "                # compute cosine similarity\n",
        "                dot = np.dot(a, b)\n",
        "                norma = np.linalg.norm(a)\n",
        "                normb = np.linalg.norm(b)\n",
        "                cos = dot / (norma * normb)\n",
        "                \n",
        "                aa = a.reshape(1,512)\n",
        "                ba = b.reshape(1,512)\n",
        "     \n",
        "                cos_lib = cosine_similarity(aa, ba)\n",
        "\n",
        "         \n",
        "        if(cosine==False):cos_lib=0;\n",
        "        return cos_lib\n"
      ],
      "metadata": {
        "id": "RRM2rDegxVyC"
      },
      "execution_count": 6,
      "outputs": []
    },
    {
      "cell_type": "code",
      "source": [
        "print(similarity('freedom', 'freedom'))\n"
      ],
      "metadata": {
        "colab": {
          "base_uri": "https://localhost:8080/"
        },
        "id": "yvXHA_7ZyblY",
        "outputId": "862624e9-7135-47a5-f9e7-cb0bd474bbee"
      },
      "execution_count": 10,
      "outputs": [
        {
          "output_type": "stream",
          "name": "stdout",
          "text": [
            "[[0.9999999]]\n"
          ]
        }
      ]
    },
    {
      "cell_type": "code",
      "source": [
        "#@title Case 0: Words in the dataset and the dictionary\n",
        "\n",
        "word1=\"freedom\"; word2=\"liberty\"\n",
        "\n",
        "print(\"Similarity\", similarity(word1,word2), word1, word2)\n",
        "\n"
      ],
      "metadata": {
        "colab": {
          "base_uri": "https://localhost:8080/"
        },
        "id": "uZ61sVj9zsZY",
        "outputId": "83b855fd-83d3-4adc-ac46-31d6feca4a74"
      },
      "execution_count": 11,
      "outputs": [
        {
          "output_type": "stream",
          "name": "stdout",
          "text": [
            "Similarity [[0.36993998]] freedom liberty\n"
          ]
        }
      ]
    },
    {
      "cell_type": "code",
      "source": [
        "#@title Case 1: Words not in the dataset or the dictionary\n",
        "\n",
        "word1=\"corporations\"; word2=\"rights\"\n",
        "\n",
        "print(\"Similarity\", similarity(word1,word2), word1, word2)\n",
        "\n"
      ],
      "metadata": {
        "colab": {
          "base_uri": "https://localhost:8080/"
        },
        "id": "VGY7aadE58Xl",
        "outputId": "898a6542-56e6-4bdc-dc13-f6bc0463f47f"
      },
      "execution_count": 13,
      "outputs": [
        {
          "output_type": "stream",
          "name": "stdout",
          "text": [
            "corporations :[unk] key not found in dictionary\n",
            "Similarity 0 corporations rights\n"
          ]
        }
      ]
    },
    {
      "cell_type": "code",
      "source": [
        "#@title Case 2: Noisy Relationship \n",
        "\n",
        "word1=\"etext\"; word2=\"declaration\"\n",
        "print(\"Similarity\", similarity(word1,word2), word1, word2)\n"
      ],
      "metadata": {
        "colab": {
          "base_uri": "https://localhost:8080/"
        },
        "id": "OiLUix0m3JuT",
        "outputId": "3dd92f26-e3ce-4b77-bb9a-71929528d8bc"
      },
      "execution_count": 15,
      "outputs": [
        {
          "output_type": "stream",
          "name": "stdout",
          "text": [
            "Similarity [[0.5619307]] etext declaration\n"
          ]
        }
      ]
    },
    {
      "cell_type": "code",
      "source": [
        "#@title Case 3: Rare words\n",
        "\n",
        "word1=\"justiciar\"; word2=\"judgement\"\n",
        "print(\"Similarity\", similarity(word1, word2) ,word1, word2)\n",
        "\n"
      ],
      "metadata": {
        "colab": {
          "base_uri": "https://localhost:8080/"
        },
        "id": "1SNm0r0F4GQt",
        "outputId": "2445e5c4-2227-40f2-c083-9d6b8027e759"
      },
      "execution_count": 16,
      "outputs": [
        {
          "output_type": "stream",
          "name": "stdout",
          "text": [
            "Similarity [[0.24089369]] justiciar judgement\n"
          ]
        }
      ]
    },
    {
      "cell_type": "code",
      "source": [
        "#@title Case 4: Replacing rare words\n",
        "\n",
        "word1=\"judge\"; word2=\"justiciar\"\n",
        "print(\"Similarity\", similarity(word1,word2) ,word1, word2)\n",
        "\n"
      ],
      "metadata": {
        "colab": {
          "base_uri": "https://localhost:8080/"
        },
        "id": "kSRcH4ZU5J3l",
        "outputId": "365cfe91-c922-41eb-ca40-04d1b894feef"
      },
      "execution_count": 18,
      "outputs": [
        {
          "output_type": "stream",
          "name": "stdout",
          "text": [
            "Similarity [[0.3778212]] judge justiciar\n"
          ]
        }
      ]
    },
    {
      "cell_type": "code",
      "source": [
        "#@title Case 5: Entailment\n",
        "word1=\"pay\"; word2=\"debt\"\n",
        "\n",
        "print(\"Similarity\", similarity(word1,word2), word1, word2)\n"
      ],
      "metadata": {
        "colab": {
          "base_uri": "https://localhost:8080/"
        },
        "id": "8nMHlHHU6uui",
        "outputId": "f607df12-fdca-4424-9fce-8b3ee80076e6"
      },
      "execution_count": 19,
      "outputs": [
        {
          "output_type": "stream",
          "name": "stdout",
          "text": [
            "Similarity [[0.52915555]] pay debt\n"
          ]
        }
      ]
    }
  ]
}