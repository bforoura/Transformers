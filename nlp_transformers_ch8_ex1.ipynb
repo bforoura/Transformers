{
  "nbformat": 4,
  "nbformat_minor": 0,
  "metadata": {
    "colab": {
      "provenance": [],
      "authorship_tag": "ABX9TyOQDrmrTExOt+c6TDYOg8XJ",
      "include_colab_link": true
    },
    "kernelspec": {
      "name": "python3",
      "display_name": "Python 3"
    },
    "language_info": {
      "name": "python"
    }
  },
  "cells": [
    {
      "cell_type": "markdown",
      "metadata": {
        "id": "view-in-github",
        "colab_type": "text"
      },
      "source": [
        "<a href=\"https://colab.research.google.com/github/bforoura/Transformers/blob/main/nlp_transformers_ch8_ex1.ipynb\" target=\"_parent\"><img src=\"https://colab.research.google.com/assets/colab-badge.svg\" alt=\"Open In Colab\"/></a>"
      ]
    },
    {
      "cell_type": "code",
      "execution_count": null,
      "metadata": {
        "id": "xeaSvL3O7Zaj"
      },
      "outputs": [],
      "source": [
        "#@title A Positional Encoding Example\n",
        "\n",
        "# Gensim is a free open-source Python library for representing documents as semantic vectors\n",
        "!pip install gensim==3.8.3\n",
        "\n",
        "\n",
        "# An open-source machine learning library, a scientific computing framework, and a \n",
        "# script language based on the Lua programming language.\n",
        "import torch\n",
        "\n",
        "# A suite of libraries and programs for statistical language processing\n",
        "import nltk\n",
        "\n",
        "# Punktis is a Sentence Tokenizer that divides a text into a list of sentences by using \n",
        "# an unsupervised algorithm to build a model for abbreviation words, collocations, and \n",
        "# words that start sentences.\n",
        "nltk.download('punkt')\n",
        "\n"
      ]
    },
    {
      "cell_type": "code",
      "source": [
        "#@title Necessary imports\n",
        "\n",
        "import math\n",
        "import numpy as np\n",
        "from nltk.tokenize import sent_tokenize, word_tokenize \n",
        "import gensim \n",
        "from gensim.models import Word2Vec \n",
        "import numpy as np\n",
        "from sklearn.metrics.pairwise import cosine_similarity\n",
        "import matplotlib.pyplot as plt\n",
        "import warnings \n",
        "warnings.filterwarnings(action = 'ignore') \n",
        "\n"
      ],
      "metadata": {
        "id": "CIY9H4m89rgD"
      },
      "execution_count": 2,
      "outputs": []
    },
    {
      "cell_type": "code",
      "source": [
        "#@title Upload the data file and parse it\n",
        "\n",
        "dprint=0 # prints outputs if set to 1, default=0\n",
        "\n",
        "#‘text.txt’ will reside locally in your Google colab file system \n",
        "!curl -L https://raw.githubusercontent.com/PacktPublishing/Transformers-for-Natural-Language-Processing/main/Chapter01/text.txt --output \"test.txt\"\n",
        "\n",
        "sample = open(\"test.txt\", \"r\") \n",
        "s = sample.read() \n",
        "\n",
        "# processing escape characters \n",
        "f = s.replace(\"\\n\", \" \") \n",
        "\n",
        "data = [] \n",
        "\n",
        "# sentence parsing \n",
        "for i in sent_tokenize(f): \n",
        "\ttemp = [] \n",
        "\t# tokenize the sentence into words \n",
        "\tfor j in word_tokenize(i): \n",
        "\t\ttemp.append(j.lower()) \n",
        "\tdata.append(temp) \n",
        " \n",
        "\n"
      ],
      "metadata": {
        "colab": {
          "base_uri": "https://localhost:8080/"
        },
        "id": "ne4qRprz-rZL",
        "outputId": "dfcd0691-37cf-4d2d-d722-271d02871dba"
      },
      "execution_count": 3,
      "outputs": [
        {
          "output_type": "stream",
          "name": "stdout",
          "text": [
            "  % Total    % Received % Xferd  Average Speed   Time    Time     Time  Current\n",
            "                                 Dload  Upload   Total   Spent    Left  Speed\n",
            "\r  0     0    0     0    0     0      0      0 --:--:-- --:--:-- --:--:--     0\r100 24151  100 24151    0     0   259k      0 --:--:-- --:--:-- --:--:--  259k\n"
          ]
        }
      ]
    },
    {
      "cell_type": "code",
      "source": [
        "#@title Create the Skip Gram model\n",
        "\n",
        "model = gensim.models.Word2Vec(data, min_count = 1, size = 512, window = 5, sg = 1)\n",
        "\n",
        "# 1-The 2-black 3-cat 4-sat 5-on 6-the 7-couch 8-and 9-the 10-brown 11-dog 12-slept 13-on 14-the 15-rug.\n",
        "word1='black'\n",
        "pos1=2\n",
        "\n",
        "word2='brown'\n",
        "pos2=10\n",
        "\n",
        "a=model[word1]\n",
        "b=model[word2]\n",
        "\n",
        "if(dprint==1):\n",
        "        print(a)\n"
      ],
      "metadata": {
        "colab": {
          "base_uri": "https://localhost:8080/"
        },
        "id": "Vm_dAaGYBYQM",
        "outputId": "d3e132c0-20e7-4491-f687-13a69de60089"
      },
      "execution_count": 6,
      "outputs": [
        {
          "output_type": "stream",
          "name": "stderr",
          "text": [
            "WARNING:gensim.models.base_any2vec:under 10 jobs per worker: consider setting a smaller `batch_words' for smoother alpha decay\n"
          ]
        }
      ]
    },
    {
      "cell_type": "code",
      "source": [
        "#@title Compute cosine similarity\n",
        "\n",
        "dot = np.dot(a, b)\n",
        "\n",
        "norma = np.linalg.norm(a)\n",
        "normb = np.linalg.norm(b)\n",
        "\n",
        "cos = dot / (norma * normb)\n",
        "\n",
        "aa = a.reshape(1,512) \n",
        "ba = b.reshape(1,512)\n",
        "cos_lib = cosine_similarity(aa, ba)\n"
      ],
      "metadata": {
        "id": "x3OkfxkQcgd9"
      },
      "execution_count": 7,
      "outputs": []
    }
  ]
}