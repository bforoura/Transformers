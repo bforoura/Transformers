{
  "nbformat": 4,
  "nbformat_minor": 0,
  "metadata": {
    "colab": {
      "provenance": [],
      "collapsed_sections": [],
      "authorship_tag": "ABX9TyMqWcJLCW8iHitKlNs47VQO",
      "include_colab_link": true
    },
    "kernelspec": {
      "name": "python3",
      "display_name": "Python 3"
    },
    "language_info": {
      "name": "python"
    }
  },
  "cells": [
    {
      "cell_type": "markdown",
      "metadata": {
        "id": "view-in-github",
        "colab_type": "text"
      },
      "source": [
        "<a href=\"https://colab.research.google.com/github/bforoura/Transformers/blob/main/nlp_transformers_ch1_ex1.ipynb\" target=\"_parent\"><img src=\"https://colab.research.google.com/assets/colab-badge.svg\" alt=\"Open In Colab\"/></a>"
      ]
    },
    {
      "cell_type": "code",
      "execution_count": 1,
      "metadata": {
        "id": "09cuVk_8YjBs"
      },
      "outputs": [],
      "source": [
        "import numpy as np\n",
        "from scipy.special import softmax"
      ]
    },
    {
      "cell_type": "code",
      "source": [
        "print(\"Step 1: Input : 3 inputs, d_model=4\")\n",
        "x =np.array([[1.0, 0.0, 1.0, 0.0],   # Input 1\n",
        "             [0.0, 2.0, 0.0, 2.0],   # Input 2\n",
        "             [1.0, 1.0, 1.0, 1.0]])  # Input 3\n",
        "\n",
        "print(x)"
      ],
      "metadata": {
        "colab": {
          "base_uri": "https://localhost:8080/"
        },
        "id": "vAbRuVNmY0wM",
        "outputId": "d461b235-5aa0-4ec9-f99c-b1959f8ee58c"
      },
      "execution_count": 2,
      "outputs": [
        {
          "output_type": "stream",
          "name": "stdout",
          "text": [
            "Step 1: Input : 3 inputs, d_model=4\n",
            "[[1. 0. 1. 0.]\n",
            " [0. 2. 0. 2.]\n",
            " [1. 1. 1. 1.]]\n"
          ]
        }
      ]
    },
    {
      "cell_type": "code",
      "source": [
        "print(\"Step 2: weights 3 dimensions x d_model=4\")\n",
        "\n",
        "w_query =np.array([[1, 0, 1],\n",
        "                   [1, 0, 0],\n",
        "                   [0, 0, 1],\n",
        "                   [0, 1, 1]])\n",
        "\n",
        "w_key =np.array([[0, 0, 1],\n",
        "                 [1, 1, 0],\n",
        "                 [0, 1, 0],\n",
        "                 [1, 1, 0]])\n",
        "\n",
        "w_value = np.array([[0, 2, 0],\n",
        "                    [0, 3, 0],\n",
        "                    [1, 0, 3],\n",
        "                    [1, 1, 0]])\n"
      ],
      "metadata": {
        "colab": {
          "base_uri": "https://localhost:8080/"
        },
        "id": "QlBnVWiuZUzi",
        "outputId": "88fc1786-470a-4370-fd22-2541cd37e754"
      },
      "execution_count": 7,
      "outputs": [
        {
          "output_type": "stream",
          "name": "stdout",
          "text": [
            "Step 2: weights 3 dimensions x d_model=4\n"
          ]
        }
      ]
    },
    {
      "cell_type": "code",
      "source": [
        "print(\"w_query\")\n",
        "print(w_query)\n",
        "\n",
        "print(\"\")\n",
        "\n",
        "print(\"w_key\")\n",
        "print(w_key)\n",
        "\n",
        "print(\"\")\n",
        "\n",
        "print(\"w_value\")\n",
        "print(w_value)\n"
      ],
      "metadata": {
        "colab": {
          "base_uri": "https://localhost:8080/"
        },
        "id": "Mpl-IoZxa9yZ",
        "outputId": "7b2c74ca-86ec-41ce-b8c0-d66691aafa34"
      },
      "execution_count": 9,
      "outputs": [
        {
          "output_type": "stream",
          "name": "stdout",
          "text": [
            "w_query\n",
            "[[1 0 1]\n",
            " [1 0 0]\n",
            " [0 0 1]\n",
            " [0 1 1]]\n",
            "\n",
            "w_key\n",
            "[[0 0 1]\n",
            " [1 1 0]\n",
            " [0 1 0]\n",
            " [1 1 0]]\n",
            "\n",
            "w_value\n",
            "[[0 2 0]\n",
            " [0 3 0]\n",
            " [1 0 3]\n",
            " [1 1 0]]\n"
          ]
        }
      ]
    },
    {
      "cell_type": "code",
      "source": [
        "print(\"Step 3: Matrix multiplication to obtain Q,K,V\")\n",
        "print(\"Query: x * w_query\")\n",
        "\n",
        "Q=np.matmul(x,w_query)\n",
        "print(Q)\n"
      ],
      "metadata": {
        "colab": {
          "base_uri": "https://localhost:8080/"
        },
        "id": "v-oVfdXtbiNg",
        "outputId": "5fd239a4-7b3d-41fc-9560-3a70b1fd56d1"
      },
      "execution_count": 10,
      "outputs": [
        {
          "output_type": "stream",
          "name": "stdout",
          "text": [
            "Step 3: Matrix multiplication to obtain Q,K,V\n",
            "Query: x * w_query\n",
            "[[1. 0. 2.]\n",
            " [2. 2. 2.]\n",
            " [2. 1. 3.]]\n"
          ]
        }
      ]
    }
  ]
}