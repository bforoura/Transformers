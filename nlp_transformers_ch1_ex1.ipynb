{
  "nbformat": 4,
  "nbformat_minor": 0,
  "metadata": {
    "colab": {
      "provenance": [],
      "collapsed_sections": [],
      "authorship_tag": "ABX9TyPninXW2EXHVjOGKHW4gHiB",
      "include_colab_link": true
    },
    "kernelspec": {
      "name": "python3",
      "display_name": "Python 3"
    },
    "language_info": {
      "name": "python"
    }
  },
  "cells": [
    {
      "cell_type": "markdown",
      "metadata": {
        "id": "view-in-github",
        "colab_type": "text"
      },
      "source": [
        "<a href=\"https://colab.research.google.com/github/bforoura/Transformers/blob/main/nlp_transformers_ch1_ex1.ipynb\" target=\"_parent\"><img src=\"https://colab.research.google.com/assets/colab-badge.svg\" alt=\"Open In Colab\"/></a>"
      ]
    },
    {
      "cell_type": "code",
      "execution_count": 12,
      "metadata": {
        "id": "09cuVk_8YjBs"
      },
      "outputs": [],
      "source": [
        "import numpy as np\n",
        "from scipy.special import softmax"
      ]
    },
    {
      "cell_type": "code",
      "source": [
        "print(\"Step 1: Input : 3 inputs, d_model=4\")\n",
        "x =np.array([[1.0, 0.0, 1.0, 0.0],   # Input 1\n",
        "             [0.0, 2.0, 0.0, 2.0],   # Input 2\n",
        "             [1.0, 1.0, 1.0, 1.0]])  # Input 3\n",
        "\n",
        "print(x)"
      ],
      "metadata": {
        "colab": {
          "base_uri": "https://localhost:8080/"
        },
        "id": "vAbRuVNmY0wM",
        "outputId": "d039b3d8-01d1-4659-f752-225e3b23cd1d"
      },
      "execution_count": 13,
      "outputs": [
        {
          "output_type": "stream",
          "name": "stdout",
          "text": [
            "Step 1: Input : 3 inputs, d_model=4\n",
            "[[1. 0. 1. 0.]\n",
            " [0. 2. 0. 2.]\n",
            " [1. 1. 1. 1.]]\n"
          ]
        }
      ]
    },
    {
      "cell_type": "code",
      "source": [
        "print(\"Step 2: weights 3 dimensions x d_model=4\")\n",
        "\n",
        "w_query =np.array([[1, 0, 1],\n",
        "                   [1, 0, 0],\n",
        "                   [0, 0, 1],\n",
        "                   [0, 1, 1]])\n",
        "\n",
        "w_key =np.array([[0, 0, 1],\n",
        "                 [1, 1, 0],\n",
        "                 [0, 1, 0],\n",
        "                 [1, 1, 0]])\n",
        "\n",
        "w_value = np.array([[0, 2, 0],\n",
        "                    [0, 3, 0],\n",
        "                    [1, 0, 3],\n",
        "                    [1, 1, 0]])\n"
      ],
      "metadata": {
        "colab": {
          "base_uri": "https://localhost:8080/"
        },
        "id": "QlBnVWiuZUzi",
        "outputId": "196d4c8a-d9b0-4138-e860-6369cce57145"
      },
      "execution_count": 14,
      "outputs": [
        {
          "output_type": "stream",
          "name": "stdout",
          "text": [
            "Step 2: weights 3 dimensions x d_model=4\n"
          ]
        }
      ]
    },
    {
      "cell_type": "code",
      "source": [
        "print(\"w_query\")\n",
        "print(w_query)\n",
        "\n",
        "print(\"\")\n",
        "\n",
        "print(\"w_key\")\n",
        "print(w_key)\n",
        "\n",
        "print(\"\")\n",
        "\n",
        "print(\"w_value\")\n",
        "print(w_value)\n"
      ],
      "metadata": {
        "colab": {
          "base_uri": "https://localhost:8080/"
        },
        "id": "Mpl-IoZxa9yZ",
        "outputId": "ea981108-6ba0-4cbd-8f7c-14daf1771a07"
      },
      "execution_count": 15,
      "outputs": [
        {
          "output_type": "stream",
          "name": "stdout",
          "text": [
            "w_query\n",
            "[[1 0 1]\n",
            " [1 0 0]\n",
            " [0 0 1]\n",
            " [0 1 1]]\n",
            "\n",
            "w_key\n",
            "[[0 0 1]\n",
            " [1 1 0]\n",
            " [0 1 0]\n",
            " [1 1 0]]\n",
            "\n",
            "w_value\n",
            "[[0 2 0]\n",
            " [0 3 0]\n",
            " [1 0 3]\n",
            " [1 1 0]]\n"
          ]
        }
      ]
    },
    {
      "cell_type": "code",
      "source": [
        "print(\"Step 3: Matrix multiplication to obtain Q,K,V\")\n",
        "print(\"Query: x * w_query\")\n",
        "\n",
        "Q=np.matmul(x,w_query)\n",
        "print(Q)\n"
      ],
      "metadata": {
        "colab": {
          "base_uri": "https://localhost:8080/"
        },
        "id": "v-oVfdXtbiNg",
        "outputId": "1c00c0f2-0132-4603-f691-1d8f0b28d5b3"
      },
      "execution_count": 16,
      "outputs": [
        {
          "output_type": "stream",
          "name": "stdout",
          "text": [
            "Step 3: Matrix multiplication to obtain Q,K,V\n",
            "Query: x * w_query\n",
            "[[1. 0. 2.]\n",
            " [2. 2. 2.]\n",
            " [2. 1. 3.]]\n"
          ]
        }
      ]
    },
    {
      "cell_type": "code",
      "source": [
        "print(\"Key: x * w_key\")\n",
        "K=np.matmul(x,w_key)\n",
        "print(K)\n",
        "\n",
        "print()\n",
        "\n",
        "print(\"Value: x * w_value\")\n",
        "V=np.matmul(x,w_value)\n",
        "print(V)\n"
      ],
      "metadata": {
        "colab": {
          "base_uri": "https://localhost:8080/"
        },
        "id": "8UQ4hCugd6qA",
        "outputId": "90cd47ae-9928-46fd-b5a3-16f44478b294"
      },
      "execution_count": 17,
      "outputs": [
        {
          "output_type": "stream",
          "name": "stdout",
          "text": [
            "Key: x * w_key\n",
            "[[0. 1. 1.]\n",
            " [4. 4. 0.]\n",
            " [2. 3. 1.]]\n",
            "\n",
            "Value: x * w_value\n",
            "[[1. 2. 3.]\n",
            " [2. 8. 0.]\n",
            " [2. 6. 3.]]\n"
          ]
        }
      ]
    },
    {
      "cell_type": "code",
      "source": [
        "print(\"Step 4: Scaled Attention Scores\")\n",
        "k_d = 1   #square root of k_d=3 rounded down to 1 for this example\n",
        "attention_scores = (Q @ K.transpose())/k_d\n",
        "\n",
        "print(attention_scores)"
      ],
      "metadata": {
        "colab": {
          "base_uri": "https://localhost:8080/"
        },
        "id": "_dPNbJbZeg_M",
        "outputId": "4cc4ee6e-b221-48bd-e015-b5fbd1a613ba"
      },
      "execution_count": 18,
      "outputs": [
        {
          "output_type": "stream",
          "name": "stdout",
          "text": [
            "Step 4: Scaled Attention Scores\n",
            "[[ 2.  4.  4.]\n",
            " [ 4. 16. 12.]\n",
            " [ 4. 12. 10.]]\n"
          ]
        }
      ]
    },
    {
      "cell_type": "code",
      "source": [
        "print(\"Step 5: Scaled softmax attention_scores for each vector\")\n",
        "\n",
        "attention_scores[0]=softmax(attention_scores[0])\n",
        "attention_scores[1]=softmax(attention_scores[1])\n",
        "attention_scores[2]=softmax(attention_scores[2])\n",
        "\n",
        "print(attention_scores[0])\n",
        "print(attention_scores[1])\n",
        "print(attention_scores[2])\n"
      ],
      "metadata": {
        "colab": {
          "base_uri": "https://localhost:8080/"
        },
        "id": "lhieDHifgNBR",
        "outputId": "9d2db286-4e0d-4659-d1ea-bef0315d7b75"
      },
      "execution_count": 19,
      "outputs": [
        {
          "output_type": "stream",
          "name": "stdout",
          "text": [
            "Step 5: Scaled softmax attention_scores for each vector\n",
            "[0.06337894 0.46831053 0.46831053]\n",
            "[6.03366485e-06 9.82007865e-01 1.79861014e-02]\n",
            "[2.95387223e-04 8.80536902e-01 1.19167711e-01]\n"
          ]
        }
      ]
    },
    {
      "cell_type": "code",
      "source": [
        "print(\"Step 6: attention value obtained by score1/k_d * V\")\n",
        "print(V[0])\n",
        "print(V[1])\n",
        "print(V[2])\n",
        "\n",
        "print(\"Attention 1\")\n",
        "attention1=attention_scores[0].reshape(-1,1)\n",
        "attention1=attention_scores[0][0]*V[0]\n",
        "print(attention1)\n",
        "\n",
        "print(\"Attention 2\")\n",
        "attention2=attention_scores[0][1]*V[1]\n",
        "print(attention2)\n",
        "\n",
        "print(\"Attention 3\")\n",
        "attention3=attention_scores[0][2]*V[2]\n",
        "print(attention3)"
      ],
      "metadata": {
        "colab": {
          "base_uri": "https://localhost:8080/"
        },
        "id": "ZZi0cA1_hauO",
        "outputId": "fe10c5de-c44e-4dd1-d4b0-5be24e23e6c8"
      },
      "execution_count": 20,
      "outputs": [
        {
          "output_type": "stream",
          "name": "stdout",
          "text": [
            "Step 6: attention value obtained by score1/k_d * V\n",
            "[1. 2. 3.]\n",
            "[2. 8. 0.]\n",
            "[2. 6. 3.]\n",
            "Attention 1\n",
            "[0.06337894 0.12675788 0.19013681]\n",
            "Attention 2\n",
            "[0.93662106 3.74648425 0.        ]\n",
            "Attention 3\n",
            "[0.93662106 2.80986319 1.40493159]\n"
          ]
        }
      ]
    },
    {
      "cell_type": "code",
      "source": [
        "print(\"Step7: summed the results to create the first line of the output matrix\")\n",
        "attention_input1 = attention1+attention2+attention3\n",
        "\n",
        "print(attention_input1)\n"
      ],
      "metadata": {
        "colab": {
          "base_uri": "https://localhost:8080/"
        },
        "id": "b1orDHUQjEWS",
        "outputId": "05b38f1a-e032-4900-af5c-7589ac1e81ca"
      },
      "execution_count": 21,
      "outputs": [
        {
          "output_type": "stream",
          "name": "stdout",
          "text": [
            "Step7: summed the results to create the first line of the output matrix\n",
            "[1.93662106 6.68310531 1.59506841]\n"
          ]
        }
      ]
    },
    {
      "cell_type": "code",
      "source": [
        "print(\"Step 8: Step 1 to 7 for inputs 1 to 3\")\n",
        "#We assume we have 3 results with learned weights (they were not trained in this example)\n",
        "#We assume we are implementing the original Transformer paper. We will have 3 results of 64 dimensions each\n",
        "\n",
        "attention_head1=np.random.random((3, 64))\n",
        "print(attention_head1)\n",
        "\n"
      ],
      "metadata": {
        "colab": {
          "base_uri": "https://localhost:8080/"
        },
        "id": "VhYQsCXrkLBn",
        "outputId": "32ae15f2-f0d1-4a2c-b93f-64d70df70441"
      },
      "execution_count": 22,
      "outputs": [
        {
          "output_type": "stream",
          "name": "stdout",
          "text": [
            "Step 8: Step 1 to 7 for inputs 1 to 3\n",
            "[[0.6560407  0.82009821 0.89949975 0.68696183 0.31854112 0.16699218\n",
            "  0.32953096 0.61549933 0.88899345 0.5456821  0.86138241 0.18455295\n",
            "  0.82761567 0.98166282 0.94984331 0.06506516 0.8804135  0.13011945\n",
            "  0.94801999 0.93528153 0.99054318 0.78548404 0.8676434  0.47469522\n",
            "  0.83688375 0.5387053  0.05903823 0.42225509 0.78159808 0.20646456\n",
            "  0.90953242 0.63796611 0.00678738 0.56795911 0.3792625  0.11660279\n",
            "  0.97953718 0.56122314 0.65107983 0.08790737 0.29124864 0.52734691\n",
            "  0.28856979 0.98364831 0.72288838 0.41173422 0.03640459 0.57685759\n",
            "  0.42506071 0.28648455 0.26873417 0.2021371  0.9734837  0.10221194\n",
            "  0.15079364 0.4725747  0.93342281 0.56748058 0.35552562 0.92259833\n",
            "  0.30615237 0.17124681 0.24117431 0.28586041]\n",
            " [0.58075334 0.51599488 0.01968169 0.81698536 0.51379616 0.32412733\n",
            "  0.2280996  0.92197969 0.7375087  0.50429585 0.3558181  0.9035542\n",
            "  0.03707306 0.87664287 0.95206999 0.01546258 0.05196652 0.98757345\n",
            "  0.75829348 0.76674614 0.63665484 0.08446785 0.22614257 0.99344915\n",
            "  0.38851962 0.16768467 0.42768568 0.12841726 0.93141856 0.93610059\n",
            "  0.82671315 0.26180766 0.48506076 0.57968476 0.29117015 0.15026907\n",
            "  0.20181045 0.04195196 0.03514717 0.13292888 0.65951455 0.09289112\n",
            "  0.62308648 0.17140629 0.72016737 0.1375891  0.24296582 0.93146225\n",
            "  0.92065787 0.98852715 0.34235307 0.35920494 0.44970863 0.20423096\n",
            "  0.6712385  0.23145047 0.6678983  0.24302592 0.03700484 0.31118617\n",
            "  0.36418588 0.77118259 0.17923989 0.33586612]\n",
            " [0.97017743 0.73883869 0.96037414 0.90469554 0.21110686 0.10145602\n",
            "  0.90080007 0.39650086 0.57265307 0.37088692 0.58020511 0.04378812\n",
            "  0.28721903 0.68247003 0.65573601 0.39373256 0.25190531 0.10447994\n",
            "  0.60255276 0.18824333 0.90282922 0.59304788 0.80825302 0.96977651\n",
            "  0.63680245 0.33085712 0.70863173 0.28456641 0.43439016 0.82164305\n",
            "  0.28206196 0.8732821  0.98664041 0.97376055 0.18177419 0.67436412\n",
            "  0.9690433  0.4462424  0.50792987 0.7919872  0.77050911 0.20832933\n",
            "  0.51408719 0.28365212 0.6279901  0.06030186 0.70424233 0.38663545\n",
            "  0.49985676 0.77632036 0.20564164 0.27365187 0.42181529 0.11025543\n",
            "  0.39696166 0.40482468 0.91378616 0.36461579 0.22095548 0.82791608\n",
            "  0.61333226 0.38860601 0.91590783 0.6609232 ]]\n"
          ]
        }
      ]
    },
    {
      "cell_type": "code",
      "source": [
        "print(\"Step 9: We assume we have trained the 8 heads of the attentionsub-layer\")\n",
        "z0h1=np.random.random((3, 64))\n",
        "z1h2=np.random.random((3, 64))\n",
        "z2h3=np.random.random((3, 64))\n",
        "z3h4=np.random.random((3, 64))\n",
        "z4h5=np.random.random((3, 64))\n",
        "z5h6=np.random.random((3, 64))\n",
        "z6h7=np.random.random((3, 64))\n",
        "z7h8=np.random.random((3, 64))\n",
        "\n",
        "print(\"shape of one head\",z0h1.shape,\"dimension of 8 heads\",64*8)\n"
      ],
      "metadata": {
        "id": "3LcpYrb1mGUf",
        "colab": {
          "base_uri": "https://localhost:8080/"
        },
        "outputId": "ff9d8193-a1bc-4e03-d7ba-94975749332b"
      },
      "execution_count": 24,
      "outputs": [
        {
          "output_type": "stream",
          "name": "stdout",
          "text": [
            "Step 9: We assume we have trained the 8 heads of the attentionsub-layer\n",
            "shape of one head (3, 64) dimension of 8 heads 512\n"
          ]
        }
      ]
    }
  ]
}