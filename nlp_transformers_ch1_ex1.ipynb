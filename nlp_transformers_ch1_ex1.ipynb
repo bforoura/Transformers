{
  "nbformat": 4,
  "nbformat_minor": 0,
  "metadata": {
    "colab": {
      "provenance": [],
      "collapsed_sections": [],
      "authorship_tag": "ABX9TyOjPEy23A9+rKfNImC8EAH6",
      "include_colab_link": true
    },
    "kernelspec": {
      "name": "python3",
      "display_name": "Python 3"
    },
    "language_info": {
      "name": "python"
    }
  },
  "cells": [
    {
      "cell_type": "markdown",
      "metadata": {
        "id": "view-in-github",
        "colab_type": "text"
      },
      "source": [
        "<a href=\"https://colab.research.google.com/github/bforoura/Transformers/blob/main/nlp_transformers_ch1_ex1.ipynb\" target=\"_parent\"><img src=\"https://colab.research.google.com/assets/colab-badge.svg\" alt=\"Open In Colab\"/></a>"
      ]
    },
    {
      "cell_type": "code",
      "execution_count": 1,
      "metadata": {
        "id": "09cuVk_8YjBs"
      },
      "outputs": [],
      "source": [
        "import numpy as np\n",
        "from scipy.special import softmax"
      ]
    },
    {
      "cell_type": "code",
      "source": [
        "print(\"Step 1: Input : 3 inputs, d_model=4\")\n",
        "x =np.array([[1.0, 0.0, 1.0, 0.0],   # Input 1\n",
        "             [0.0, 2.0, 0.0, 2.0],   # Input 2\n",
        "             [1.0, 1.0, 1.0, 1.0]])  # Input 3\n",
        "\n",
        "print(x)"
      ],
      "metadata": {
        "colab": {
          "base_uri": "https://localhost:8080/"
        },
        "id": "vAbRuVNmY0wM",
        "outputId": "d461b235-5aa0-4ec9-f99c-b1959f8ee58c"
      },
      "execution_count": 2,
      "outputs": [
        {
          "output_type": "stream",
          "name": "stdout",
          "text": [
            "Step 1: Input : 3 inputs, d_model=4\n",
            "[[1. 0. 1. 0.]\n",
            " [0. 2. 0. 2.]\n",
            " [1. 1. 1. 1.]]\n"
          ]
        }
      ]
    },
    {
      "cell_type": "code",
      "source": [
        "print(\"Step 2: weights 3 dimensions x d_model=4\")\n",
        "\n",
        "w_query =np.array([[1, 0, 1],\n",
        "                   [1, 0, 0],\n",
        "                   [0, 0, 1],\n",
        "                   [0, 1, 1]])\n",
        "\n",
        "w_key =np.array([[0, 0, 1],\n",
        "                 [1, 1, 0],\n",
        "                 [0, 1, 0],\n",
        "                 [1, 1, 0]])\n",
        "\n",
        "w_value = np.array([[0, 2, 0],\n",
        "                    [0, 3, 0],\n",
        "                    [1, 0, 3],\n",
        "                    [1, 1, 0]])\n"
      ],
      "metadata": {
        "colab": {
          "base_uri": "https://localhost:8080/"
        },
        "id": "QlBnVWiuZUzi",
        "outputId": "88fc1786-470a-4370-fd22-2541cd37e754"
      },
      "execution_count": 7,
      "outputs": [
        {
          "output_type": "stream",
          "name": "stdout",
          "text": [
            "Step 2: weights 3 dimensions x d_model=4\n"
          ]
        }
      ]
    },
    {
      "cell_type": "code",
      "source": [
        "print(\"w_query\")\n",
        "print(w_query)\n",
        "\n",
        "print(\"\")\n",
        "\n",
        "print(\"w_key\")\n",
        "print(w_key)\n",
        "\n",
        "print(\"\")\n",
        "\n",
        "print(\"w_value\")\n",
        "print(w_value)\n"
      ],
      "metadata": {
        "colab": {
          "base_uri": "https://localhost:8080/"
        },
        "id": "Mpl-IoZxa9yZ",
        "outputId": "7b2c74ca-86ec-41ce-b8c0-d66691aafa34"
      },
      "execution_count": 9,
      "outputs": [
        {
          "output_type": "stream",
          "name": "stdout",
          "text": [
            "w_query\n",
            "[[1 0 1]\n",
            " [1 0 0]\n",
            " [0 0 1]\n",
            " [0 1 1]]\n",
            "\n",
            "w_key\n",
            "[[0 0 1]\n",
            " [1 1 0]\n",
            " [0 1 0]\n",
            " [1 1 0]]\n",
            "\n",
            "w_value\n",
            "[[0 2 0]\n",
            " [0 3 0]\n",
            " [1 0 3]\n",
            " [1 1 0]]\n"
          ]
        }
      ]
    },
    {
      "cell_type": "code",
      "source": [
        "print(\"Step 3: Matrix multiplication to obtain Q,K,V\")\n",
        "print(\"Query: x * w_query\")\n",
        "\n",
        "Q=np.matmul(x,w_query)\n",
        "print(Q)\n"
      ],
      "metadata": {
        "colab": {
          "base_uri": "https://localhost:8080/"
        },
        "id": "v-oVfdXtbiNg",
        "outputId": "5fd239a4-7b3d-41fc-9560-3a70b1fd56d1"
      },
      "execution_count": 10,
      "outputs": [
        {
          "output_type": "stream",
          "name": "stdout",
          "text": [
            "Step 3: Matrix multiplication to obtain Q,K,V\n",
            "Query: x * w_query\n",
            "[[1. 0. 2.]\n",
            " [2. 2. 2.]\n",
            " [2. 1. 3.]]\n"
          ]
        }
      ]
    },
    {
      "cell_type": "code",
      "source": [
        "print(\"Key: x * w_key\")\n",
        "K=np.matmul(x,w_key)\n",
        "print(K)\n",
        "\n",
        "print()\n",
        "\n",
        "print(\"Value: x * w_value\")\n",
        "V=np.matmul(x,w_value)\n",
        "print(V)\n"
      ],
      "metadata": {
        "colab": {
          "base_uri": "https://localhost:8080/"
        },
        "id": "8UQ4hCugd6qA",
        "outputId": "7767927b-4236-4f18-84b4-2059627770b9"
      },
      "execution_count": 13,
      "outputs": [
        {
          "output_type": "stream",
          "name": "stdout",
          "text": [
            "Key: x * w_key\n",
            "[[0. 1. 1.]\n",
            " [4. 4. 0.]\n",
            " [2. 3. 1.]]\n",
            "\n",
            "Value: x * w_value\n",
            "[[1. 2. 3.]\n",
            " [2. 8. 0.]\n",
            " [2. 6. 3.]]\n"
          ]
        }
      ]
    },
    {
      "cell_type": "code",
      "source": [
        "print(\"Step 4: Scaled Attention Scores\")\n",
        "k_d = 1   #square root of k_d=3 rounded down to 1 for this example\n",
        "attention_scores = (Q @ K.transpose())/k_d\n",
        "\n",
        "print(attention_scores)"
      ],
      "metadata": {
        "colab": {
          "base_uri": "https://localhost:8080/"
        },
        "id": "_dPNbJbZeg_M",
        "outputId": "eaae6ef7-7983-4ba2-fa88-b71986d7f63f"
      },
      "execution_count": 14,
      "outputs": [
        {
          "output_type": "stream",
          "name": "stdout",
          "text": [
            "Step 4: Scaled Attention Scores\n",
            "[[ 2.  4.  4.]\n",
            " [ 4. 16. 12.]\n",
            " [ 4. 12. 10.]]\n"
          ]
        }
      ]
    },
    {
      "cell_type": "code",
      "source": [
        "print(\"Step 5: Scaled softmax attention_scores for each vector\")\n",
        "\n",
        "attention_scores[0]=softmax(attention_scores[0])\n",
        "attention_scores[1]=softmax(attention_scores[1])\n",
        "attention_scores[2]=softmax(attention_scores[2])\n",
        "\n",
        "print(attention_scores[0])\n",
        "print(attention_scores[1])\n",
        "print(attention_scores[2])\n"
      ],
      "metadata": {
        "colab": {
          "base_uri": "https://localhost:8080/"
        },
        "id": "lhieDHifgNBR",
        "outputId": "36874a93-85e5-46f2-c489-2485d41de48f"
      },
      "execution_count": 15,
      "outputs": [
        {
          "output_type": "stream",
          "name": "stdout",
          "text": [
            "Step 5: Scaled softmax attention_scores for each vector\n",
            "[0.06337894 0.46831053 0.46831053]\n",
            "[6.03366485e-06 9.82007865e-01 1.79861014e-02]\n",
            "[2.95387223e-04 8.80536902e-01 1.19167711e-01]\n"
          ]
        }
      ]
    },
    {
      "cell_type": "code",
      "source": [
        "print(\"Step 6: attention value obtained by score1/k_d * V\")\n",
        "print(V[0])\n",
        "print(V[1])\n",
        "print(V[2])\n",
        "\n",
        "print(\"Attention 1\")\n",
        "attention1=attention_scores[0].reshape(-1,1)\n",
        "attention1=attention_scores[0][0]*V[0]\n",
        "print(attention1)\n",
        "\n",
        "print(\"Attention 2\")\n",
        "attention2=attention_scores[0][1]*V[1]\n",
        "print(attention2)\n",
        "\n",
        "print(\"Attention 3\")\n",
        "attention3=attention_scores[0][2]*V[2]\n",
        "print(attention3)"
      ],
      "metadata": {
        "colab": {
          "base_uri": "https://localhost:8080/"
        },
        "id": "ZZi0cA1_hauO",
        "outputId": "aa9eb020-67e0-4310-8633-147fe6ddfd84"
      },
      "execution_count": 16,
      "outputs": [
        {
          "output_type": "stream",
          "name": "stdout",
          "text": [
            "Step 6: attention value obtained by score1/k_d * V\n",
            "[1. 2. 3.]\n",
            "[2. 8. 0.]\n",
            "[2. 6. 3.]\n",
            "Attention 1\n",
            "[0.06337894 0.12675788 0.19013681]\n",
            "Attention 2\n",
            "[0.93662106 3.74648425 0.        ]\n",
            "Attention 3\n",
            "[0.93662106 2.80986319 1.40493159]\n"
          ]
        }
      ]
    },
    {
      "cell_type": "code",
      "source": [
        "print(\"Step7: summed the results to create the first line of the output matrix\")\n",
        "attention_input1 = attention1+attention2+attention3\n",
        "\n",
        "print(attention_input1)\n"
      ],
      "metadata": {
        "colab": {
          "base_uri": "https://localhost:8080/"
        },
        "id": "b1orDHUQjEWS",
        "outputId": "0639e745-f70c-4efc-d5f2-2656045fa30c"
      },
      "execution_count": 17,
      "outputs": [
        {
          "output_type": "stream",
          "name": "stdout",
          "text": [
            "Step7: summed the results to create the first line of the output matrix\n",
            "[1.93662106 6.68310531 1.59506841]\n"
          ]
        }
      ]
    },
    {
      "cell_type": "code",
      "source": [
        "print(\"Step 8: Step 1 to 7 for inputs 1 to 3\")\n",
        "#We assume we have 3 results with learned weights (they were not trained in this example)\n",
        "#We assume we are implementing the original Transformer paper. We will have 3 results of 64 dimensions each\n",
        "\n",
        "attention_head1=np.random.random((3, 64))\n",
        "print(attention_head1)\n",
        "\n"
      ],
      "metadata": {
        "colab": {
          "base_uri": "https://localhost:8080/"
        },
        "id": "VhYQsCXrkLBn",
        "outputId": "87dd9451-7a57-4807-c851-284001ce0b5f"
      },
      "execution_count": 18,
      "outputs": [
        {
          "output_type": "stream",
          "name": "stdout",
          "text": [
            "Step 8: Step 1 to 7 for inputs 1 to 3\n",
            "[[0.11417149 0.56508858 0.83043368 0.46479419 0.89585463 0.81565501\n",
            "  0.61825008 0.55572652 0.43044949 0.29045964 0.50713898 0.36517847\n",
            "  0.06840972 0.21334416 0.45282906 0.33546611 0.13134107 0.38698329\n",
            "  0.33146688 0.30270807 0.97545433 0.53931672 0.1217342  0.7332061\n",
            "  0.14435247 0.71404858 0.90980394 0.49646041 0.87902671 0.48991826\n",
            "  0.61842771 0.44879244 0.38941825 0.37126104 0.11585137 0.36754874\n",
            "  0.17181227 0.01507133 0.58472956 0.2737691  0.97442183 0.78197063\n",
            "  0.45777076 0.91905505 0.43796158 0.51809903 0.15855206 0.50583513\n",
            "  0.53460292 0.50367346 0.97413282 0.03048474 0.77127186 0.64982201\n",
            "  0.34959424 0.09105251 0.65578789 0.10366049 0.35116811 0.52891349\n",
            "  0.85874566 0.47422149 0.49699314 0.17381452]\n",
            " [0.67435935 0.97851823 0.64526101 0.36766504 0.08818583 0.31479515\n",
            "  0.22407253 0.6428197  0.55444163 0.79638096 0.94569059 0.25201594\n",
            "  0.71096408 0.30105015 0.10269438 0.08137369 0.48360289 0.02466192\n",
            "  0.9246544  0.35386207 0.81560167 0.95746165 0.24473135 0.70969764\n",
            "  0.60183444 0.37343639 0.30181321 0.67116996 0.20499231 0.5272568\n",
            "  0.31722676 0.33740071 0.99967625 0.11609351 0.70467991 0.39645986\n",
            "  0.43301077 0.38461147 0.21854112 0.86862154 0.11564876 0.49398234\n",
            "  0.0406642  0.90499582 0.86588237 0.82384324 0.28287237 0.88657488\n",
            "  0.65521366 0.27126623 0.46715174 0.5480157  0.29384607 0.36187708\n",
            "  0.81529139 0.86758565 0.14254436 0.23434087 0.68233883 0.81562107\n",
            "  0.88319506 0.86583174 0.67896828 0.09879043]\n",
            " [0.02225893 0.36364554 0.12436712 0.37700093 0.07494994 0.69419309\n",
            "  0.68756204 0.38683768 0.05976863 0.16292837 0.8202244  0.65591387\n",
            "  0.38351587 0.44934752 0.24012411 0.59052317 0.96210478 0.21107604\n",
            "  0.60196834 0.87562175 0.34419651 0.55701682 0.31542667 0.38088311\n",
            "  0.24915609 0.02748217 0.59562413 0.44964258 0.51311858 0.87670612\n",
            "  0.12121373 0.446025   0.99622135 0.21698231 0.0143182  0.53259405\n",
            "  0.98960442 0.3327327  0.42932151 0.34477242 0.46935866 0.29790205\n",
            "  0.06380274 0.69664787 0.48193747 0.43406476 0.24905431 0.85920175\n",
            "  0.92302922 0.16994202 0.06752707 0.16032458 0.24276929 0.04257228\n",
            "  0.815068   0.64626636 0.59233706 0.9260472  0.74252182 0.29485276\n",
            "  0.35608642 0.36313725 0.3698024  0.97600635]]\n"
          ]
        }
      ]
    },
    {
      "cell_type": "code",
      "source": [],
      "metadata": {
        "id": "3LcpYrb1mGUf"
      },
      "execution_count": null,
      "outputs": []
    }
  ]
}