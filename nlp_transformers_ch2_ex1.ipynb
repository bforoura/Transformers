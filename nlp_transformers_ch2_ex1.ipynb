{
  "nbformat": 4,
  "nbformat_minor": 0,
  "metadata": {
    "colab": {
      "provenance": [],
      "collapsed_sections": [],
      "authorship_tag": "ABX9TyOB0UMGsMonQnCte9ojlwHF",
      "include_colab_link": true
    },
    "kernelspec": {
      "name": "python3",
      "display_name": "Python 3"
    },
    "language_info": {
      "name": "python"
    },
    "accelerator": "GPU"
  },
  "cells": [
    {
      "cell_type": "markdown",
      "metadata": {
        "id": "view-in-github",
        "colab_type": "text"
      },
      "source": [
        "<a href=\"https://colab.research.google.com/github/bforoura/Transformers/blob/main/nlp_transformers_ch2_ex1.ipynb\" target=\"_parent\"><img src=\"https://colab.research.google.com/assets/colab-badge.svg\" alt=\"Open In Colab\"/></a>"
      ]
    },
    {
      "cell_type": "code",
      "execution_count": 1,
      "metadata": {
        "colab": {
          "base_uri": "https://localhost:8080/"
        },
        "id": "0a7D4tM2bT3O",
        "outputId": "57e1fbd1-6700-4eda-8ceb-8695dcfe9402"
      },
      "outputs": [
        {
          "output_type": "stream",
          "name": "stdout",
          "text": [
            "Found GPU at: /device:GPU:0\n"
          ]
        }
      ],
      "source": [
        "#@title Activating the GPU\n",
        "# Main menu->Runtime->Change Runtime Type\n",
        "\n",
        "import tensorflow as tf\n",
        "\n",
        "device_name = tf.test.gpu_device_name()\n",
        "if device_name != '/device:GPU:0':\n",
        "  raise SystemError('GPU device not found')\n",
        "\n",
        "print('Found GPU at: {}'.format(device_name))\n"
      ]
    },
    {
      "cell_type": "code",
      "source": [
        "#@title Installing the Hugging Face PyTorch Interface for Bert\n",
        "\n",
        "!pip install -q transformers\n",
        "\n"
      ],
      "metadata": {
        "colab": {
          "base_uri": "https://localhost:8080/"
        },
        "id": "4xUz-xIqb3G6",
        "outputId": "71554cfc-7a17-417a-eb80-5cae14be4bdd"
      },
      "execution_count": 2,
      "outputs": [
        {
          "output_type": "stream",
          "name": "stdout",
          "text": [
            "\u001b[K     |████████████████████████████████| 4.9 MB 32.7 MB/s \n",
            "\u001b[K     |████████████████████████████████| 163 kB 68.2 MB/s \n",
            "\u001b[K     |████████████████████████████████| 6.6 MB 57.4 MB/s \n",
            "\u001b[?25h"
          ]
        }
      ]
    }
  ]
}