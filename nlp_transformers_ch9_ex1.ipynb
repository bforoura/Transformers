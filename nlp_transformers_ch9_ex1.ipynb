{
  "nbformat": 4,
  "nbformat_minor": 0,
  "metadata": {
    "colab": {
      "provenance": [],
      "authorship_tag": "ABX9TyPHdpewj7A3U0QgkVXVJSaR",
      "include_colab_link": true
    },
    "kernelspec": {
      "name": "python3",
      "display_name": "Python 3"
    },
    "language_info": {
      "name": "python"
    },
    "gpuClass": "standard"
  },
  "cells": [
    {
      "cell_type": "markdown",
      "metadata": {
        "id": "view-in-github",
        "colab_type": "text"
      },
      "source": [
        "<a href=\"https://colab.research.google.com/github/bforoura/Transformers/blob/main/nlp_transformers_ch9_ex1.ipynb\" target=\"_parent\"><img src=\"https://colab.research.google.com/assets/colab-badge.svg\" alt=\"Open In Colab\"/></a>"
      ]
    },
    {
      "cell_type": "code",
      "execution_count": null,
      "metadata": {
        "id": "L9TvUObp-OxC"
      },
      "outputs": [],
      "source": [
        "#@title Semantic Role Labeling(SRL)"
      ]
    },
    {
      "cell_type": "code",
      "source": [
        "#@title Intall Allen NLP\n",
        "\n",
        "!pip install allennlp==1.0.0 allennlp-models==1.0.0\n",
        "\n",
        "\n"
      ],
      "metadata": {
        "colab": {
          "base_uri": "https://localhost:8080/"
        },
        "id": "2PlW26deD665",
        "outputId": "a589a7a4-5898-403d-bf7f-13dbce7c519a"
      },
      "execution_count": null,
      "outputs": [
        {
          "output_type": "stream",
          "name": "stdout",
          "text": [
            "Looking in indexes: https://pypi.org/simple, https://us-python.pkg.dev/colab-wheels/public/simple/\n",
            "Collecting allennlp==1.0.0\n",
            "  Downloading allennlp-1.0.0-py3-none-any.whl (473 kB)\n",
            "\u001b[K     |████████████████████████████████| 473 kB 30.2 MB/s \n",
            "\u001b[?25hCollecting allennlp-models==1.0.0\n",
            "  Downloading allennlp_models-1.0.0-py3-none-any.whl (282 kB)\n",
            "\u001b[K     |████████████████████████████████| 282 kB 55.4 MB/s \n",
            "\u001b[?25hRequirement already satisfied: tqdm>=4.19 in /usr/local/lib/python3.8/dist-packages (from allennlp==1.0.0) (4.64.1)\n",
            "Collecting boto3\n",
            "  Downloading boto3-1.26.27-py3-none-any.whl (132 kB)\n",
            "\u001b[K     |████████████████████████████████| 132 kB 46.2 MB/s \n",
            "\u001b[?25hCollecting spacy<2.3,>=2.1.0\n",
            "  Downloading spacy-2.2.4-cp38-cp38-manylinux1_x86_64.whl (10.6 MB)\n",
            "\u001b[K     |████████████████████████████████| 10.6 MB 54.3 MB/s \n",
            "\u001b[?25hRequirement already satisfied: pytest in /usr/local/lib/python3.8/dist-packages (from allennlp==1.0.0) (3.6.4)\n",
            "Requirement already satisfied: nltk in /usr/local/lib/python3.8/dist-packages (from allennlp==1.0.0) (3.7)\n",
            "Requirement already satisfied: requests>=2.18 in /usr/local/lib/python3.8/dist-packages (from allennlp==1.0.0) (2.23.0)\n",
            "Requirement already satisfied: scikit-learn in /usr/local/lib/python3.8/dist-packages (from allennlp==1.0.0) (1.0.2)\n",
            "Collecting torch<1.6.0,>=1.5.0\n",
            "  Downloading torch-1.5.1-cp38-cp38-manylinux1_x86_64.whl (753.2 MB)\n",
            "\u001b[K     |███████████▋                    | 273.9 MB 1.5 MB/s eta 0:05:24"
          ]
        }
      ]
    }
  ]
}