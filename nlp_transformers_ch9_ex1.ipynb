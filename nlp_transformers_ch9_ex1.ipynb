{
  "nbformat": 4,
  "nbformat_minor": 0,
  "metadata": {
    "colab": {
      "provenance": [],
      "authorship_tag": "ABX9TyPxWNyqEZye4yUouo29S5eM",
      "include_colab_link": true
    },
    "kernelspec": {
      "name": "python3",
      "display_name": "Python 3"
    },
    "language_info": {
      "name": "python"
    },
    "gpuClass": "standard"
  },
  "cells": [
    {
      "cell_type": "markdown",
      "metadata": {
        "id": "view-in-github",
        "colab_type": "text"
      },
      "source": [
        "<a href=\"https://colab.research.google.com/github/bforoura/Transformers/blob/main/nlp_transformers_ch9_ex1.ipynb\" target=\"_parent\"><img src=\"https://colab.research.google.com/assets/colab-badge.svg\" alt=\"Open In Colab\"/></a>"
      ]
    },
    {
      "cell_type": "code",
      "execution_count": 4,
      "metadata": {
        "id": "L9TvUObp-OxC"
      },
      "outputs": [],
      "source": [
        "#@title Semantic Role Labeling(SRL)"
      ]
    },
    {
      "cell_type": "code",
      "source": [
        "#@title Intall Allen NLP\n",
        "\n",
        "!pip install allennlp==2.1.0 allennlp-models==2.1.0\n",
        "\n",
        "!pip install -U spacy\n"
      ],
      "metadata": {
        "id": "2PlW26deD665"
      },
      "execution_count": null,
      "outputs": []
    },
    {
      "cell_type": "code",
      "source": [
        "#@title Sample 1: Did Uriah honestly think he could beat the game in under three hours?\n",
        "\n",
        "\n",
        "\n",
        "from allennlp.predictors.predictor import Predictor\n",
        "import allennlp_models.tagging\n",
        "\n",
        "predictor = Predictor.from_path(\"https://storage.googleapis.com/allennlp-public-models/structured-prediction-srl-bert.2020.12.15.tar.gz\")\n",
        "predictor.predict(\n",
        "    sentence=\"Did Uriah honestly think he could beat the game in under three hours?.\"\n",
        ")\n",
        "\n",
        "\n"
      ],
      "metadata": {
        "colab": {
          "base_uri": "https://localhost:8080/"
        },
        "id": "HvoMossmExH1",
        "outputId": "415ec3c4-9481-42ee-a3f9-a9dd4b283c7a"
      },
      "execution_count": 6,
      "outputs": [
        {
          "output_type": "execute_result",
          "data": {
            "text/plain": [
              "{'verbs': [{'verb': 'Did',\n",
              "   'description': '[V: Did] Uriah honestly think he could beat the game in under three hours ? .',\n",
              "   'tags': ['B-V',\n",
              "    'O',\n",
              "    'O',\n",
              "    'O',\n",
              "    'O',\n",
              "    'O',\n",
              "    'O',\n",
              "    'O',\n",
              "    'O',\n",
              "    'O',\n",
              "    'O',\n",
              "    'O',\n",
              "    'O',\n",
              "    'O',\n",
              "    'O']},\n",
              "  {'verb': 'think',\n",
              "   'description': 'Did [ARG0: Uriah] [ARGM-ADV: honestly] [V: think] [ARG1: he could beat the game in under three hours] ? .',\n",
              "   'tags': ['O',\n",
              "    'B-ARG0',\n",
              "    'B-ARGM-ADV',\n",
              "    'B-V',\n",
              "    'B-ARG1',\n",
              "    'I-ARG1',\n",
              "    'I-ARG1',\n",
              "    'I-ARG1',\n",
              "    'I-ARG1',\n",
              "    'I-ARG1',\n",
              "    'I-ARG1',\n",
              "    'I-ARG1',\n",
              "    'I-ARG1',\n",
              "    'O',\n",
              "    'O']},\n",
              "  {'verb': 'could',\n",
              "   'description': 'Did Uriah honestly think he [V: could] beat the game in under three hours ? .',\n",
              "   'tags': ['O',\n",
              "    'O',\n",
              "    'O',\n",
              "    'O',\n",
              "    'O',\n",
              "    'B-V',\n",
              "    'O',\n",
              "    'O',\n",
              "    'O',\n",
              "    'O',\n",
              "    'O',\n",
              "    'O',\n",
              "    'O',\n",
              "    'O',\n",
              "    'O']},\n",
              "  {'verb': 'beat',\n",
              "   'description': 'Did Uriah honestly think [ARG0: he] [ARGM-MOD: could] [V: beat] [ARG1: the game] [ARGM-TMP: in under three hours] ? .',\n",
              "   'tags': ['O',\n",
              "    'O',\n",
              "    'O',\n",
              "    'O',\n",
              "    'B-ARG0',\n",
              "    'B-ARGM-MOD',\n",
              "    'B-V',\n",
              "    'B-ARG1',\n",
              "    'I-ARG1',\n",
              "    'B-ARGM-TMP',\n",
              "    'I-ARGM-TMP',\n",
              "    'I-ARGM-TMP',\n",
              "    'I-ARGM-TMP',\n",
              "    'O',\n",
              "    'O']}],\n",
              " 'words': ['Did',\n",
              "  'Uriah',\n",
              "  'honestly',\n",
              "  'think',\n",
              "  'he',\n",
              "  'could',\n",
              "  'beat',\n",
              "  'the',\n",
              "  'game',\n",
              "  'in',\n",
              "  'under',\n",
              "  'three',\n",
              "  'hours',\n",
              "  '?',\n",
              "  '.']}"
            ]
          },
          "metadata": {},
          "execution_count": 6
        }
      ]
    }
  ]
}